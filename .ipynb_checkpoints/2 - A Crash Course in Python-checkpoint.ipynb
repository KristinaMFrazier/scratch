{
 "cells": [
  {
   "cell_type": "code",
   "execution_count": 1,
   "id": "c6c5c7bb",
   "metadata": {},
   "outputs": [],
   "source": [
    "# Modules\n",
    "# Certain features of Python are not loaded by default. These include both features that are included as part of the language as well as third-party features that you download yourself. In order to use these features, you'll need to import the modules that contain them.\n"
   ]
  },
  {
   "cell_type": "code",
   "execution_count": 2,
   "id": "05618610",
   "metadata": {},
   "outputs": [],
   "source": [
    "# One approach is to simply import the module itself:\n",
    "\n",
    "import re\n",
    "#  re is the module containing functions and constants for working with regular expressions\n",
    "my_regex = re.compile(\"[0-9]+\", re.I)"
   ]
  },
  {
   "cell_type": "markdown",
   "id": "17b60349",
   "metadata": {},
   "source": [
    "# Functions"
   ]
  },
  {
   "cell_type": "code",
   "execution_count": 3,
   "id": "aa30d673",
   "metadata": {},
   "outputs": [
    {
     "data": {
      "text/plain": [
       "10"
      ]
     },
     "execution_count": 3,
     "metadata": {},
     "output_type": "execute_result"
    }
   ],
   "source": [
    "# Remember the basic syntax of a function\n",
    "def double(x):\n",
    "    return x*2\n",
    "\n",
    "double(5)"
   ]
  },
  {
   "cell_type": "code",
   "execution_count": 6,
   "id": "efe2d23d",
   "metadata": {},
   "outputs": [
    {
     "data": {
      "text/plain": [
       "8"
      ]
     },
     "execution_count": 6,
     "metadata": {},
     "output_type": "execute_result"
    }
   ],
   "source": [
    "def cubed(x):\n",
    "    return x**3\n",
    "\n",
    "cubed(2)"
   ]
  },
  {
   "cell_type": "code",
   "execution_count": 7,
   "id": "9b728c6a",
   "metadata": {},
   "outputs": [
    {
     "data": {
      "text/plain": [
       "2"
      ]
     },
     "execution_count": 7,
     "metadata": {},
     "output_type": "execute_result"
    }
   ],
   "source": [
    "# A variable can be defined as a function\n",
    "\n",
    "def apply_to_one(f):\n",
    "    return f(1)\n",
    "\n",
    "my_double = double\n",
    "x = apply_to_one(my_double); x"
   ]
  },
  {
   "cell_type": "code",
   "execution_count": 12,
   "id": "f3a42116",
   "metadata": {},
   "outputs": [
    {
     "data": {
      "text/plain": [
       "27"
      ]
     },
     "execution_count": 12,
     "metadata": {},
     "output_type": "execute_result"
    }
   ],
   "source": [
    "# Define the function\n",
    "def cubed(x):\n",
    "    return x**3\n",
    "\n",
    "# assign the function to a variable. the following is the type \"function\"\n",
    "my_cubed = cubed\n",
    "\n",
    "\n",
    "# define a second function, where an argument is defined \n",
    "# and the argument is defined in the function as a function\n",
    "def apply_to_three(x):\n",
    "    return x(3)\n",
    "\n",
    "y = apply_to_three(my_cubed); y"
   ]
  },
  {
   "cell_type": "code",
   "execution_count": null,
   "id": "7942d3f6",
   "metadata": {},
   "outputs": [],
   "source": [
    "# Lambda functios\n",
    "\n",
    "y = apply_to_one(lambda x: x + 4); y\n",
    "# y is where x is defined, for whatever value of x, add 4"
   ]
  },
  {
   "cell_type": "code",
   "execution_count": null,
   "id": "4a9f1791",
   "metadata": {},
   "outputs": [],
   "source": [
    "# default arguments\n",
    "\n",
    "def my_print(message = \"my default message\"):\n",
    "    print(message)\n",
    "\n",
    "print(my_print())\n",
    "print(my_print('Hello!'))"
   ]
  },
  {
   "cell_type": "markdown",
   "id": "82bb0055",
   "metadata": {},
   "source": [
    "# Strings"
   ]
  },
  {
   "cell_type": "code",
   "execution_count": null,
   "id": "29b27b38",
   "metadata": {},
   "outputs": [],
   "source": [
    "# Encode special characters\n",
    "\n",
    "tab_string = '\\t'\n",
    "len(tab_string)"
   ]
  },
  {
   "cell_type": "code",
   "execution_count": null,
   "id": "c9f00e82",
   "metadata": {},
   "outputs": [],
   "source": [
    "# raw strings\n",
    "not_tab_string = r\"\\t\"\n",
    "len(not_tab_string)"
   ]
  },
  {
   "cell_type": "code",
   "execution_count": null,
   "id": "a7bd8afd",
   "metadata": {},
   "outputs": [],
   "source": [
    "# F strings\n",
    "\n",
    "first_name = 'Kristina'\n",
    "last_name = 'Frazier'\n",
    "\n",
    "full_name = f\"{first_name} {last_name}\"; full_name"
   ]
  },
  {
   "cell_type": "markdown",
   "id": "5b16a5b9",
   "metadata": {},
   "source": [
    "# Exceptions"
   ]
  },
  {
   "cell_type": "code",
   "execution_count": null,
   "id": "5b8a24e2",
   "metadata": {},
   "outputs": [],
   "source": [
    "try:\n",
    "    print(0/0)\n",
    "except ZeroDivisionError:\n",
    "    print('cannot divide by zero')"
   ]
  },
  {
   "cell_type": "markdown",
   "id": "44a65539",
   "metadata": {},
   "source": [
    "# Lists"
   ]
  },
  {
   "cell_type": "code",
   "execution_count": null,
   "id": "4175a3b8",
   "metadata": {},
   "outputs": [],
   "source": [
    "# Modify a list in place\n",
    "x = [1,2,3]\n",
    "x"
   ]
  },
  {
   "cell_type": "code",
   "execution_count": null,
   "id": "833da909",
   "metadata": {},
   "outputs": [],
   "source": [
    "x.extend([4,5,6])\n",
    "x"
   ]
  },
  {
   "cell_type": "code",
   "execution_count": null,
   "id": "d109115f",
   "metadata": {},
   "outputs": [],
   "source": [
    "y = x + [7,8,9]\n",
    "y"
   ]
  },
  {
   "cell_type": "code",
   "execution_count": null,
   "id": "ed51c9ae",
   "metadata": {},
   "outputs": [],
   "source": [
    "# Unpack a list (assign variables using a list)\n",
    "first, second = ['Kristina','Frazier']\n",
    "print(first)\n",
    "print(second)"
   ]
  },
  {
   "cell_type": "markdown",
   "id": "2a7cc1b5",
   "metadata": {},
   "source": [
    "# Tuples"
   ]
  },
  {
   "cell_type": "code",
   "execution_count": null,
   "id": "289038f0",
   "metadata": {},
   "outputs": [],
   "source": [
    "my_tuple = (1,2)"
   ]
  },
  {
   "cell_type": "code",
   "execution_count": null,
   "id": "fad9f9f6",
   "metadata": {},
   "outputs": [],
   "source": [
    "other_tuple = 3,4"
   ]
  },
  {
   "cell_type": "code",
   "execution_count": null,
   "id": "5605fdc7",
   "metadata": {},
   "outputs": [],
   "source": [
    "def sum_and_product(x,y):\n",
    "    # this is formated to return a tuple\n",
    "    return (x + y), (x*y)\n",
    "\n",
    "sp = sum_and_product(2,3)\n",
    "sp"
   ]
  },
  {
   "cell_type": "code",
   "execution_count": null,
   "id": "446fea63",
   "metadata": {},
   "outputs": [],
   "source": [
    "s,p = sum_and_product(5,10)\n",
    "print(s)\n",
    "print(p)"
   ]
  },
  {
   "cell_type": "code",
   "execution_count": null,
   "id": "8806b406",
   "metadata": {},
   "outputs": [],
   "source": [
    "s"
   ]
  },
  {
   "cell_type": "code",
   "execution_count": null,
   "id": "21187af0",
   "metadata": {},
   "outputs": [],
   "source": [
    "p"
   ]
  },
  {
   "cell_type": "markdown",
   "id": "e44296d4",
   "metadata": {},
   "source": [
    "# Dictionaries"
   ]
  },
  {
   "cell_type": "code",
   "execution_count": null,
   "id": "e441f156",
   "metadata": {},
   "outputs": [],
   "source": [
    "# Three ways to create a dictionary\n",
    "empty_dict = {}\n",
    "empty_dict2 = dict()\n",
    "grades = {\"Joel\":80,\"Tim\":95}"
   ]
  },
  {
   "cell_type": "code",
   "execution_count": null,
   "id": "85d863d9",
   "metadata": {},
   "outputs": [],
   "source": [
    "# Look up a key value\n",
    "grades['Joel']"
   ]
  },
  {
   "cell_type": "code",
   "execution_count": null,
   "id": "bf101989",
   "metadata": {},
   "outputs": [],
   "source": [
    "# Check for the existence of a key\n",
    "\"Joel\" in grades"
   ]
  },
  {
   "cell_type": "code",
   "execution_count": null,
   "id": "32db9443",
   "metadata": {},
   "outputs": [],
   "source": [
    "\"Kate\" in grades"
   ]
  },
  {
   "cell_type": "code",
   "execution_count": null,
   "id": "947b7dc0",
   "metadata": {},
   "outputs": [],
   "source": [
    "# assign key value pairs:\n",
    "grades['Kristina'] = 100\n",
    "grades"
   ]
  },
  {
   "cell_type": "code",
   "execution_count": null,
   "id": "6fcc94dd",
   "metadata": {},
   "outputs": [],
   "source": [
    "# Retrieve keys and values\n",
    "grades.keys()"
   ]
  },
  {
   "cell_type": "code",
   "execution_count": null,
   "id": "0735f048",
   "metadata": {},
   "outputs": [],
   "source": [
    "grades.values()"
   ]
  },
  {
   "cell_type": "code",
   "execution_count": null,
   "id": "ccc1d2c3",
   "metadata": {},
   "outputs": [],
   "source": [
    "grades.items()"
   ]
  },
  {
   "cell_type": "code",
   "execution_count": null,
   "id": "9587e0a3",
   "metadata": {},
   "outputs": [],
   "source": []
  },
  {
   "cell_type": "markdown",
   "id": "c606edf5",
   "metadata": {},
   "source": [
    "# Counter\n",
    "A counter turns a sequence of values into an object mapping keys to counts"
   ]
  },
  {
   "cell_type": "code",
   "execution_count": null,
   "id": "16036bf9",
   "metadata": {},
   "outputs": [],
   "source": [
    "from collections import Counter\n",
    "c = Counter(range(5))"
   ]
  },
  {
   "cell_type": "code",
   "execution_count": null,
   "id": "b78ebcf3",
   "metadata": {
    "scrolled": true
   },
   "outputs": [],
   "source": [
    "c"
   ]
  },
  {
   "cell_type": "markdown",
   "id": "96d25cfb",
   "metadata": {},
   "source": [
    "# Sets\n",
    "A collection of distinct elements"
   ]
  },
  {
   "cell_type": "code",
   "execution_count": null,
   "id": "251620b4",
   "metadata": {},
   "outputs": [],
   "source": [
    "s = set()\n",
    "s.add(1)\n",
    "s.add(2)\n",
    "s.add(2)\n",
    "s"
   ]
  },
  {
   "cell_type": "code",
   "execution_count": null,
   "id": "8d9db16f",
   "metadata": {},
   "outputs": [],
   "source": [
    "2 in s"
   ]
  },
  {
   "cell_type": "code",
   "execution_count": null,
   "id": "1aeb7f5d",
   "metadata": {},
   "outputs": [],
   "source": [
    "3 in s"
   ]
  },
  {
   "cell_type": "code",
   "execution_count": null,
   "id": "6611bf8e",
   "metadata": {},
   "outputs": [],
   "source": [
    "# Great for membership tests\n",
    "stopwords_list = [\"a\",\"an\",\"at\"] + [\"yet\",\"you\"]\n",
    "stopwords_list"
   ]
  },
  {
   "cell_type": "code",
   "execution_count": null,
   "id": "354c0f92",
   "metadata": {},
   "outputs": [],
   "source": [
    "'zip' in stopwords_list # checks every element"
   ]
  },
  {
   "cell_type": "code",
   "execution_count": null,
   "id": "30ca92bb",
   "metadata": {},
   "outputs": [],
   "source": [
    "'zip' in set(stopwords_list) # less elements to check"
   ]
  },
  {
   "cell_type": "code",
   "execution_count": null,
   "id": "887cf542",
   "metadata": {},
   "outputs": [],
   "source": [
    "# Find distinct items in a list\n",
    "item_list = [1, 2, 3, 1, 2, 3]\n",
    "set(item_list)"
   ]
  },
  {
   "cell_type": "markdown",
   "id": "10b863a0",
   "metadata": {},
   "source": [
    "# Control Flow"
   ]
  },
  {
   "cell_type": "code",
   "execution_count": null,
   "id": "632b3bd3",
   "metadata": {},
   "outputs": [],
   "source": [
    "if 1 > 2:\n",
    " message = \"if only 1 were greater than two...\"\n",
    "elif 1 > 3:\n",
    " message = \"elif stands for 'else if'\"\n",
    "else:\n",
    " message = \"when all else fails use else (if you want to)\""
   ]
  },
  {
   "cell_type": "code",
   "execution_count": null,
   "id": "a32bb12a",
   "metadata": {},
   "outputs": [],
   "source": [
    "# ternary if-then-else on one line\n",
    "x = 3\n",
    "parity = \"even\" if x % 2 == 0 else \"odd\"\n",
    "parity"
   ]
  },
  {
   "cell_type": "code",
   "execution_count": null,
   "id": "be8d427a",
   "metadata": {},
   "outputs": [],
   "source": [
    "# continue and break\n",
    "for x in range(10):\n",
    "    if x == 3:\n",
    "        continue # go immediately to the next iteration\n",
    "    if x == 5:\n",
    "        break # quit the loop entirely\n",
    "    print (x)"
   ]
  },
  {
   "cell_type": "code",
   "execution_count": null,
   "id": "2e5b96d7",
   "metadata": {},
   "outputs": [],
   "source": [
    "for x in range(20):\n",
    "    if x%2  == 0:\n",
    "        continue # go immediately to the next iteration\n",
    "    if x == 15:\n",
    "        break # quit the loop entirely\n",
    "    print (x)"
   ]
  },
  {
   "cell_type": "markdown",
   "id": "acac11bf",
   "metadata": {},
   "source": [
    "# List Comprehensions"
   ]
  },
  {
   "cell_type": "code",
   "execution_count": null,
   "id": "ac04a069",
   "metadata": {},
   "outputs": [],
   "source": [
    "even_numbers = [x for x in range(5) if x % 2 == 0]; even_numbers"
   ]
  },
  {
   "cell_type": "code",
   "execution_count": null,
   "id": "3642ea56",
   "metadata": {},
   "outputs": [],
   "source": [
    "# Turn a lists into dictionary of sets:\n",
    "square_dict = {x : x * x for x in range(5)}; square_dict"
   ]
  },
  {
   "cell_type": "code",
   "execution_count": null,
   "id": "d8be57d1",
   "metadata": {},
   "outputs": [],
   "source": [
    "# Just use an underscore also to represent lengh of list object you're iterating over\n",
    "print(even_numbers)\n",
    "zeroes = [0 for _ in even_numbers]\n",
    "print(zeroes)"
   ]
  },
  {
   "cell_type": "code",
   "execution_count": null,
   "id": "79e40808",
   "metadata": {},
   "outputs": [],
   "source": [
    "# Can include multiple Fors:\n",
    "pairs = [(x,y)\n",
    "        for x in range(10)\n",
    "        for y in range(10)]\n",
    "\n",
    "pairs[:5] # 100 pairs (0,0) (0,1) ... (9,8), (9,9)"
   ]
  },
  {
   "cell_type": "code",
   "execution_count": null,
   "id": "2ed97fdf",
   "metadata": {},
   "outputs": [],
   "source": [
    "# Later fors can use the results of earlier fors:\n",
    "increasing_pairs = [(x, y)\n",
    "                   for x in range(10)\n",
    "                   for y in range(x + 1, 10)]"
   ]
  },
  {
   "cell_type": "markdown",
   "id": "44c96d2f",
   "metadata": {},
   "source": [
    "# Generators and Iterators\n",
    "A generator is something that you can iterate over (for us, usually using for) but\n",
    "whose values are produced only as needed (lazily)."
   ]
  },
  {
   "cell_type": "code",
   "execution_count": null,
   "id": "a0de68c7",
   "metadata": {},
   "outputs": [],
   "source": [
    "def lazy_range(n):\n",
    "    \"\"\"a lazy version of range\"\"\"\n",
    "    i = 0\n",
    "    while i < n:\n",
    "        yield i\n",
    "        i += 1"
   ]
  },
  {
   "cell_type": "code",
   "execution_count": null,
   "id": "254b4dc8",
   "metadata": {},
   "outputs": [],
   "source": [
    "print(lazy_range(10))"
   ]
  },
  {
   "cell_type": "code",
   "execution_count": null,
   "id": "68ee45a3",
   "metadata": {},
   "outputs": [],
   "source": [
    "# The following loop will consume the yielded values one at a time until none are left:\n",
    "for i in lazy_range(10):\n",
    "    print(i)"
   ]
  },
  {
   "cell_type": "code",
   "execution_count": null,
   "id": "bc576f36",
   "metadata": {},
   "outputs": [],
   "source": [
    "list(range(10))"
   ]
  },
  {
   "cell_type": "markdown",
   "id": "24cb6915",
   "metadata": {},
   "source": [
    "# Randomness"
   ]
  },
  {
   "cell_type": "code",
   "execution_count": null,
   "id": "44f51014",
   "metadata": {},
   "outputs": [],
   "source": [
    "import random\n",
    "four_uniform_randoms = [random.random() for _ in range(4)]"
   ]
  },
  {
   "cell_type": "code",
   "execution_count": null,
   "id": "13d4920f",
   "metadata": {},
   "outputs": [],
   "source": [
    "four_uniform_randoms"
   ]
  },
  {
   "cell_type": "code",
   "execution_count": null,
   "id": "9ab3a680",
   "metadata": {},
   "outputs": [],
   "source": [
    "[random.random() for _ in range(10)]"
   ]
  },
  {
   "cell_type": "code",
   "execution_count": null,
   "id": "6200a32e",
   "metadata": {},
   "outputs": [],
   "source": [
    "[random.random()* 100 for _ in range(10)] "
   ]
  },
  {
   "cell_type": "code",
   "execution_count": null,
   "id": "c41d2917",
   "metadata": {},
   "outputs": [],
   "source": [
    "random.randrange(10) # choose randomly from range(10) = [0, 1, ..., 9]"
   ]
  },
  {
   "cell_type": "code",
   "execution_count": null,
   "id": "d9b23110",
   "metadata": {},
   "outputs": [],
   "source": [
    "random.randrange(3, 6) # choose randomly from range(3, 6) = [3, 4, 5]"
   ]
  },
  {
   "cell_type": "code",
   "execution_count": null,
   "id": "6019abae",
   "metadata": {},
   "outputs": [],
   "source": [
    "# random.shuffle randomly reorders the elements of a list:\n",
    "\n",
    "up_to_ten = list(range(10))\n",
    "random.shuffle(up_to_ten)\n",
    "print (up_to_ten)\n",
    "# [2, 5, 1, 9, 7, 3, 8, 6, 4, 0] (your results will probably be different)"
   ]
  },
  {
   "cell_type": "code",
   "execution_count": null,
   "id": "150782f8",
   "metadata": {},
   "outputs": [],
   "source": [
    "# If you need to randomly pick one element from a list you can use random.choice:\n",
    "my_best_friend = random.choice([\"Alice\", \"Bob\", \"Charlie\"])\n",
    "my_best_friend"
   ]
  },
  {
   "cell_type": "code",
   "execution_count": null,
   "id": "beee4c86",
   "metadata": {},
   "outputs": [],
   "source": [
    "# randomly choose a sample of elements without replacement\n",
    "lottery_numbers = range(60)\n",
    "winning_numbers = random.sample(lottery_numbers, 6) # [16, 36, 10, 6, 25, 9]\n",
    "winning_numbers"
   ]
  },
  {
   "cell_type": "code",
   "execution_count": null,
   "id": "f58918f1",
   "metadata": {},
   "outputs": [],
   "source": [
    "# choose a sample of elements with replacement (i.e., allowing duplicates)\n",
    "four_with_replacement = [random.choice(range(10)) for _ in range(4)]\n",
    "four_with_replacement"
   ]
  },
  {
   "cell_type": "markdown",
   "id": "e557c1c7",
   "metadata": {},
   "source": [
    "# Regular Expressions\n",
    "https://regexone.com/"
   ]
  },
  {
   "cell_type": "markdown",
   "id": "01eceffa",
   "metadata": {},
   "source": [
    "# Object-Oriented Programming"
   ]
  },
  {
   "cell_type": "code",
   "execution_count": null,
   "id": "e935b471",
   "metadata": {},
   "outputs": [],
   "source": [
    "# define a class named \"set\"\n",
    "\n",
    "class Set:\n",
    "    # define some member functions, always with a first parameter, \"self\"\n",
    "    \n",
    "    def _init_(self, values=None):\n",
    "        # "
   ]
  },
  {
   "cell_type": "markdown",
   "id": "9932d83e",
   "metadata": {},
   "source": [
    "# Functional Tools"
   ]
  },
  {
   "cell_type": "code",
   "execution_count": null,
   "id": "bdd2d7f9",
   "metadata": {},
   "outputs": [],
   "source": [
    "from functools import partial"
   ]
  },
  {
   "cell_type": "code",
   "execution_count": null,
   "id": "e9256bfb",
   "metadata": {},
   "outputs": [],
   "source": [
    "def exp(base, power):\n",
    "    return base ** power\n",
    "\n",
    "# as opposed to using def to define a new function as two_to_the\n",
    "two_to_the = partial(exp, 2)\n",
    "\n",
    "two_to_the(3)"
   ]
  },
  {
   "cell_type": "code",
   "execution_count": null,
   "id": "cd33f2c4",
   "metadata": {},
   "outputs": [],
   "source": []
  },
  {
   "cell_type": "code",
   "execution_count": null,
   "id": "fc459756",
   "metadata": {},
   "outputs": [],
   "source": []
  },
  {
   "cell_type": "code",
   "execution_count": null,
   "id": "89cb4b2c",
   "metadata": {},
   "outputs": [],
   "source": []
  },
  {
   "cell_type": "markdown",
   "id": "a24a6ed2",
   "metadata": {},
   "source": [
    "# enumerate"
   ]
  },
  {
   "cell_type": "code",
   "execution_count": null,
   "id": "3e2eb062",
   "metadata": {},
   "outputs": [],
   "source": []
  },
  {
   "cell_type": "code",
   "execution_count": null,
   "id": "5c401fbb",
   "metadata": {},
   "outputs": [],
   "source": []
  },
  {
   "cell_type": "code",
   "execution_count": null,
   "id": "be32fc4d",
   "metadata": {},
   "outputs": [],
   "source": []
  },
  {
   "cell_type": "code",
   "execution_count": null,
   "id": "987eb003",
   "metadata": {},
   "outputs": [],
   "source": []
  },
  {
   "cell_type": "code",
   "execution_count": null,
   "id": "7239ba99",
   "metadata": {},
   "outputs": [],
   "source": []
  },
  {
   "cell_type": "markdown",
   "id": "fa627cb3",
   "metadata": {},
   "source": [
    "# zip and Argument Unpacking"
   ]
  },
  {
   "cell_type": "code",
   "execution_count": null,
   "id": "df4e66c2",
   "metadata": {},
   "outputs": [],
   "source": []
  },
  {
   "cell_type": "code",
   "execution_count": null,
   "id": "fa2871b1",
   "metadata": {},
   "outputs": [],
   "source": []
  },
  {
   "cell_type": "code",
   "execution_count": null,
   "id": "7a426aca",
   "metadata": {},
   "outputs": [],
   "source": []
  },
  {
   "cell_type": "code",
   "execution_count": null,
   "id": "b41e42e4",
   "metadata": {},
   "outputs": [],
   "source": []
  },
  {
   "cell_type": "code",
   "execution_count": null,
   "id": "584c32c4",
   "metadata": {},
   "outputs": [],
   "source": []
  },
  {
   "cell_type": "markdown",
   "id": "859cde17",
   "metadata": {},
   "source": [
    "# args and kwargs"
   ]
  },
  {
   "cell_type": "code",
   "execution_count": null,
   "id": "5593bf6f",
   "metadata": {},
   "outputs": [],
   "source": []
  },
  {
   "cell_type": "code",
   "execution_count": null,
   "id": "20b8a631",
   "metadata": {},
   "outputs": [],
   "source": []
  },
  {
   "cell_type": "code",
   "execution_count": null,
   "id": "c7b0fd0e",
   "metadata": {},
   "outputs": [],
   "source": []
  },
  {
   "cell_type": "code",
   "execution_count": null,
   "id": "4e6972c5",
   "metadata": {},
   "outputs": [],
   "source": []
  },
  {
   "cell_type": "code",
   "execution_count": null,
   "id": "2c468348",
   "metadata": {},
   "outputs": [],
   "source": []
  }
 ],
 "metadata": {
  "kernelspec": {
   "display_name": "Python 3 (ipykernel)",
   "language": "python",
   "name": "python3"
  },
  "language_info": {
   "codemirror_mode": {
    "name": "ipython",
    "version": 3
   },
   "file_extension": ".py",
   "mimetype": "text/x-python",
   "name": "python",
   "nbconvert_exporter": "python",
   "pygments_lexer": "ipython3",
   "version": "3.8.5"
  },
  "toc": {
   "base_numbering": 1,
   "nav_menu": {},
   "number_sections": true,
   "sideBar": true,
   "skip_h1_title": false,
   "title_cell": "Table of Contents",
   "title_sidebar": "Contents",
   "toc_cell": false,
   "toc_position": {},
   "toc_section_display": true,
   "toc_window_display": true
  }
 },
 "nbformat": 4,
 "nbformat_minor": 5
}
