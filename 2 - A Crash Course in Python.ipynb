{
 "cells": [
  {
   "cell_type": "code",
   "execution_count": null,
   "id": "c6c5c7bb",
   "metadata": {
    "collapsed": true
   },
   "outputs": [],
   "source": [
    "# Modules\n",
    "Certain features of Python are not loaded by default. These include both features that are included as part of the language as well as third-party features that you download yourself. In order to use these features, you'll need to import the modules that contain them.\n"
   ]
  },
  {
   "cell_type": "code",
   "execution_count": 1,
   "id": "05618610",
   "metadata": {},
   "outputs": [],
   "source": [
    "# One approach is to simply import the module itself:\n",
    "\n",
    "import re\n",
    "#  re is the module containing functions and constants for working with regular expressions\n",
    "my_regex = re.compile(\"[0-9]+\", re.I)"
   ]
  },
  {
   "cell_type": "markdown",
   "id": "17b60349",
   "metadata": {},
   "source": [
    "# Functions"
   ]
  },
  {
   "cell_type": "code",
   "execution_count": 2,
   "id": "aa30d673",
   "metadata": {},
   "outputs": [
    {
     "data": {
      "text/plain": [
       "10"
      ]
     },
     "execution_count": 2,
     "metadata": {},
     "output_type": "execute_result"
    }
   ],
   "source": [
    "def double(x):\n",
    "    return x*2\n",
    "\n",
    "double(5)"
   ]
  },
  {
   "cell_type": "code",
   "execution_count": 3,
   "id": "9b728c6a",
   "metadata": {},
   "outputs": [
    {
     "data": {
      "text/plain": [
       "2"
      ]
     },
     "execution_count": 3,
     "metadata": {},
     "output_type": "execute_result"
    }
   ],
   "source": [
    "# First-Class: Can define a variable as a function\n",
    "\n",
    "def apply_to_one(f):\n",
    "    return f(1)\n",
    "\n",
    "my_double = double\n",
    "x = apply_to_one(my_double); x"
   ]
  },
  {
   "cell_type": "code",
   "execution_count": 4,
   "id": "7942d3f6",
   "metadata": {},
   "outputs": [
    {
     "data": {
      "text/plain": [
       "5"
      ]
     },
     "execution_count": 4,
     "metadata": {},
     "output_type": "execute_result"
    }
   ],
   "source": [
    "# Lambda functios\n",
    "\n",
    "y = apply_to_one(lambda x: x + 4); y\n",
    "# y is where x is defined, for whatever value of x, add 4"
   ]
  },
  {
   "cell_type": "code",
   "execution_count": 5,
   "id": "4a9f1791",
   "metadata": {},
   "outputs": [
    {
     "name": "stdout",
     "output_type": "stream",
     "text": [
      "my default message\n",
      "None\n",
      "Hello!\n",
      "None\n"
     ]
    }
   ],
   "source": [
    "# default arguments\n",
    "\n",
    "def my_print(message = \"my default message\"):\n",
    "    print(message)\n",
    "\n",
    "print(my_print())\n",
    "print(my_print('Hello!'))"
   ]
  },
  {
   "cell_type": "markdown",
   "id": "82bb0055",
   "metadata": {},
   "source": [
    "# Strings"
   ]
  },
  {
   "cell_type": "code",
   "execution_count": 6,
   "id": "29b27b38",
   "metadata": {},
   "outputs": [
    {
     "data": {
      "text/plain": [
       "1"
      ]
     },
     "execution_count": 6,
     "metadata": {},
     "output_type": "execute_result"
    }
   ],
   "source": [
    "# Encode special characters\n",
    "\n",
    "tab_string = '\\t'\n",
    "len(tab_string)"
   ]
  },
  {
   "cell_type": "code",
   "execution_count": 7,
   "id": "c9f00e82",
   "metadata": {},
   "outputs": [
    {
     "data": {
      "text/plain": [
       "2"
      ]
     },
     "execution_count": 7,
     "metadata": {},
     "output_type": "execute_result"
    }
   ],
   "source": [
    "# raw strings\n",
    "not_tab_string = r\"\\t\"\n",
    "len(not_tab_string)"
   ]
  },
  {
   "cell_type": "code",
   "execution_count": 8,
   "id": "a7bd8afd",
   "metadata": {},
   "outputs": [
    {
     "data": {
      "text/plain": [
       "'Kristina Frazier'"
      ]
     },
     "execution_count": 8,
     "metadata": {},
     "output_type": "execute_result"
    }
   ],
   "source": [
    "# F strings\n",
    "\n",
    "first_name = 'Kristina'\n",
    "last_name = 'Frazier'\n",
    "\n",
    "full_name = f\"{first_name} {last_name}\"; full_name"
   ]
  },
  {
   "cell_type": "markdown",
   "id": "5b16a5b9",
   "metadata": {},
   "source": [
    "# Exceptions"
   ]
  },
  {
   "cell_type": "code",
   "execution_count": 9,
   "id": "5b8a24e2",
   "metadata": {},
   "outputs": [
    {
     "name": "stdout",
     "output_type": "stream",
     "text": [
      "cannot divide by zero\n"
     ]
    }
   ],
   "source": [
    "try:\n",
    "    print(0/0)\n",
    "except ZeroDivisionError:\n",
    "    print('cannot divide by zero')"
   ]
  },
  {
   "cell_type": "markdown",
   "id": "44a65539",
   "metadata": {},
   "source": [
    "# Lists"
   ]
  },
  {
   "cell_type": "code",
   "execution_count": 10,
   "id": "4175a3b8",
   "metadata": {},
   "outputs": [
    {
     "data": {
      "text/plain": [
       "[1, 2, 3]"
      ]
     },
     "execution_count": 10,
     "metadata": {},
     "output_type": "execute_result"
    }
   ],
   "source": [
    "# Modify a list in place\n",
    "x = [1,2,3]\n",
    "x"
   ]
  },
  {
   "cell_type": "code",
   "execution_count": 11,
   "id": "833da909",
   "metadata": {},
   "outputs": [
    {
     "data": {
      "text/plain": [
       "[1, 2, 3, 4, 5, 6]"
      ]
     },
     "execution_count": 11,
     "metadata": {},
     "output_type": "execute_result"
    }
   ],
   "source": [
    "x.extend([4,5,6])\n",
    "x"
   ]
  },
  {
   "cell_type": "code",
   "execution_count": 12,
   "id": "d109115f",
   "metadata": {},
   "outputs": [
    {
     "data": {
      "text/plain": [
       "[1, 2, 3, 4, 5, 6, 7, 8, 9]"
      ]
     },
     "execution_count": 12,
     "metadata": {},
     "output_type": "execute_result"
    }
   ],
   "source": [
    "y = x + [7,8,9]\n",
    "y"
   ]
  },
  {
   "cell_type": "code",
   "execution_count": 13,
   "id": "ed51c9ae",
   "metadata": {},
   "outputs": [
    {
     "name": "stdout",
     "output_type": "stream",
     "text": [
      "Kristina\n",
      "Frazier\n"
     ]
    }
   ],
   "source": [
    "# Unpack a list (assign variables using a list)\n",
    "first, second = ['Kristina','Frazier']\n",
    "print(first)\n",
    "print(second)"
   ]
  },
  {
   "cell_type": "markdown",
   "id": "2a7cc1b5",
   "metadata": {},
   "source": [
    "# Tuples"
   ]
  },
  {
   "cell_type": "code",
   "execution_count": 14,
   "id": "289038f0",
   "metadata": {},
   "outputs": [],
   "source": [
    "my_tuple = (1,2)"
   ]
  },
  {
   "cell_type": "code",
   "execution_count": 15,
   "id": "fad9f9f6",
   "metadata": {},
   "outputs": [],
   "source": [
    "other_tuple = 3,4"
   ]
  },
  {
   "cell_type": "code",
   "execution_count": 16,
   "id": "5605fdc7",
   "metadata": {},
   "outputs": [
    {
     "data": {
      "text/plain": [
       "(5, 6)"
      ]
     },
     "execution_count": 16,
     "metadata": {},
     "output_type": "execute_result"
    }
   ],
   "source": [
    "def sum_and_product(x,y):\n",
    "    # this is formated to return a tuple\n",
    "    return (x + y), (x*y)\n",
    "\n",
    "sp = sum_and_product(2,3)\n",
    "sp"
   ]
  },
  {
   "cell_type": "code",
   "execution_count": 17,
   "id": "446fea63",
   "metadata": {},
   "outputs": [
    {
     "name": "stdout",
     "output_type": "stream",
     "text": [
      "15\n",
      "50\n"
     ]
    }
   ],
   "source": [
    "s,p = sum_and_product(5,10)\n",
    "print(s)\n",
    "print(p)"
   ]
  },
  {
   "cell_type": "code",
   "execution_count": 18,
   "id": "8806b406",
   "metadata": {},
   "outputs": [
    {
     "data": {
      "text/plain": [
       "15"
      ]
     },
     "execution_count": 18,
     "metadata": {},
     "output_type": "execute_result"
    }
   ],
   "source": [
    "s"
   ]
  },
  {
   "cell_type": "code",
   "execution_count": 19,
   "id": "21187af0",
   "metadata": {},
   "outputs": [
    {
     "data": {
      "text/plain": [
       "50"
      ]
     },
     "execution_count": 19,
     "metadata": {},
     "output_type": "execute_result"
    }
   ],
   "source": [
    "p"
   ]
  },
  {
   "cell_type": "markdown",
   "id": "e44296d4",
   "metadata": {},
   "source": [
    "# Dictionaries"
   ]
  },
  {
   "cell_type": "code",
   "execution_count": 20,
   "id": "e441f156",
   "metadata": {},
   "outputs": [],
   "source": [
    "# Three ways to create a dictionary\n",
    "empty_dict = {}\n",
    "empty_dict2 = dict()\n",
    "grades = {\"Joel\":80,\"Tim\":95}"
   ]
  },
  {
   "cell_type": "code",
   "execution_count": 21,
   "id": "85d863d9",
   "metadata": {},
   "outputs": [
    {
     "data": {
      "text/plain": [
       "80"
      ]
     },
     "execution_count": 21,
     "metadata": {},
     "output_type": "execute_result"
    }
   ],
   "source": [
    "# Look up a key value\n",
    "grades['Joel']"
   ]
  },
  {
   "cell_type": "code",
   "execution_count": 22,
   "id": "bf101989",
   "metadata": {},
   "outputs": [
    {
     "data": {
      "text/plain": [
       "True"
      ]
     },
     "execution_count": 22,
     "metadata": {},
     "output_type": "execute_result"
    }
   ],
   "source": [
    "# Check for the existence of a key\n",
    "\"Joel\" in grades"
   ]
  },
  {
   "cell_type": "code",
   "execution_count": 23,
   "id": "32db9443",
   "metadata": {},
   "outputs": [
    {
     "data": {
      "text/plain": [
       "False"
      ]
     },
     "execution_count": 23,
     "metadata": {},
     "output_type": "execute_result"
    }
   ],
   "source": [
    "\"Kate\" in grades"
   ]
  },
  {
   "cell_type": "code",
   "execution_count": 24,
   "id": "947b7dc0",
   "metadata": {},
   "outputs": [
    {
     "data": {
      "text/plain": [
       "{'Joel': 80, 'Tim': 95, 'Kristina': 100}"
      ]
     },
     "execution_count": 24,
     "metadata": {},
     "output_type": "execute_result"
    }
   ],
   "source": [
    "# assign key value pairs:\n",
    "grades['Kristina'] = 100\n",
    "grades"
   ]
  },
  {
   "cell_type": "code",
   "execution_count": 25,
   "id": "6fcc94dd",
   "metadata": {},
   "outputs": [
    {
     "data": {
      "text/plain": [
       "dict_keys(['Joel', 'Tim', 'Kristina'])"
      ]
     },
     "execution_count": 25,
     "metadata": {},
     "output_type": "execute_result"
    }
   ],
   "source": [
    "# Retrieve keys and values\n",
    "grades.keys()"
   ]
  },
  {
   "cell_type": "code",
   "execution_count": 26,
   "id": "0735f048",
   "metadata": {},
   "outputs": [
    {
     "data": {
      "text/plain": [
       "dict_values([80, 95, 100])"
      ]
     },
     "execution_count": 26,
     "metadata": {},
     "output_type": "execute_result"
    }
   ],
   "source": [
    "grades.values()"
   ]
  },
  {
   "cell_type": "code",
   "execution_count": 27,
   "id": "ccc1d2c3",
   "metadata": {},
   "outputs": [
    {
     "data": {
      "text/plain": [
       "dict_items([('Joel', 80), ('Tim', 95), ('Kristina', 100)])"
      ]
     },
     "execution_count": 27,
     "metadata": {},
     "output_type": "execute_result"
    }
   ],
   "source": [
    "grades.items()"
   ]
  },
  {
   "cell_type": "code",
   "execution_count": null,
   "id": "9587e0a3",
   "metadata": {},
   "outputs": [],
   "source": []
  },
  {
   "cell_type": "markdown",
   "id": "c606edf5",
   "metadata": {},
   "source": [
    "# Counter\n",
    "A counter turns a sequence of values into an object mapping keys to counts"
   ]
  },
  {
   "cell_type": "code",
   "execution_count": 28,
   "id": "16036bf9",
   "metadata": {},
   "outputs": [],
   "source": [
    "from collections import Counter\n",
    "c = Counter(range(5))"
   ]
  },
  {
   "cell_type": "code",
   "execution_count": 29,
   "id": "b78ebcf3",
   "metadata": {
    "scrolled": true
   },
   "outputs": [
    {
     "data": {
      "text/plain": [
       "Counter({0: 1, 1: 1, 2: 1, 3: 1, 4: 1})"
      ]
     },
     "execution_count": 29,
     "metadata": {},
     "output_type": "execute_result"
    }
   ],
   "source": [
    "c"
   ]
  },
  {
   "cell_type": "markdown",
   "id": "96d25cfb",
   "metadata": {},
   "source": [
    "# Sets\n",
    "A collection of distinct elements"
   ]
  },
  {
   "cell_type": "code",
   "execution_count": 30,
   "id": "251620b4",
   "metadata": {},
   "outputs": [
    {
     "data": {
      "text/plain": [
       "{1, 2}"
      ]
     },
     "execution_count": 30,
     "metadata": {},
     "output_type": "execute_result"
    }
   ],
   "source": [
    "s = set()\n",
    "s.add(1)\n",
    "s.add(2)\n",
    "s.add(2)\n",
    "s"
   ]
  },
  {
   "cell_type": "code",
   "execution_count": 31,
   "id": "8d9db16f",
   "metadata": {},
   "outputs": [
    {
     "data": {
      "text/plain": [
       "True"
      ]
     },
     "execution_count": 31,
     "metadata": {},
     "output_type": "execute_result"
    }
   ],
   "source": [
    "2 in s"
   ]
  },
  {
   "cell_type": "code",
   "execution_count": 32,
   "id": "1aeb7f5d",
   "metadata": {},
   "outputs": [
    {
     "data": {
      "text/plain": [
       "False"
      ]
     },
     "execution_count": 32,
     "metadata": {},
     "output_type": "execute_result"
    }
   ],
   "source": [
    "3 in s"
   ]
  },
  {
   "cell_type": "code",
   "execution_count": 33,
   "id": "6611bf8e",
   "metadata": {},
   "outputs": [
    {
     "data": {
      "text/plain": [
       "['a', 'an', 'at', 'yet', 'you']"
      ]
     },
     "execution_count": 33,
     "metadata": {},
     "output_type": "execute_result"
    }
   ],
   "source": [
    "# Great for membership tests\n",
    "stopwords_list = [\"a\",\"an\",\"at\"] + [\"yet\",\"you\"]\n",
    "stopwords_list"
   ]
  },
  {
   "cell_type": "code",
   "execution_count": 34,
   "id": "354c0f92",
   "metadata": {},
   "outputs": [
    {
     "data": {
      "text/plain": [
       "False"
      ]
     },
     "execution_count": 34,
     "metadata": {},
     "output_type": "execute_result"
    }
   ],
   "source": [
    "'zip' in stopwords_list # checks every element"
   ]
  },
  {
   "cell_type": "code",
   "execution_count": 35,
   "id": "30ca92bb",
   "metadata": {},
   "outputs": [
    {
     "data": {
      "text/plain": [
       "False"
      ]
     },
     "execution_count": 35,
     "metadata": {},
     "output_type": "execute_result"
    }
   ],
   "source": [
    "'zip' in set(stopwords_list) # less elements to check"
   ]
  },
  {
   "cell_type": "code",
   "execution_count": 36,
   "id": "887cf542",
   "metadata": {},
   "outputs": [
    {
     "data": {
      "text/plain": [
       "{1, 2, 3}"
      ]
     },
     "execution_count": 36,
     "metadata": {},
     "output_type": "execute_result"
    }
   ],
   "source": [
    "# Find distinct items in a list\n",
    "item_list = [1, 2, 3, 1, 2, 3]\n",
    "set(item_list)"
   ]
  },
  {
   "cell_type": "markdown",
   "id": "10b863a0",
   "metadata": {},
   "source": [
    "# Control Flow"
   ]
  },
  {
   "cell_type": "code",
   "execution_count": 37,
   "id": "632b3bd3",
   "metadata": {},
   "outputs": [],
   "source": [
    "if 1 > 2:\n",
    " message = \"if only 1 were greater than two...\"\n",
    "elif 1 > 3:\n",
    " message = \"elif stands for 'else if'\"\n",
    "else:\n",
    " message = \"when all else fails use else (if you want to)\""
   ]
  },
  {
   "cell_type": "code",
   "execution_count": 38,
   "id": "a32bb12a",
   "metadata": {},
   "outputs": [
    {
     "data": {
      "text/plain": [
       "'odd'"
      ]
     },
     "execution_count": 38,
     "metadata": {},
     "output_type": "execute_result"
    }
   ],
   "source": [
    "# ternary if-then-else on one line\n",
    "x = 3\n",
    "parity = \"even\" if x % 2 == 0 else \"odd\"\n",
    "parity"
   ]
  },
  {
   "cell_type": "code",
   "execution_count": 39,
   "id": "be8d427a",
   "metadata": {},
   "outputs": [
    {
     "name": "stdout",
     "output_type": "stream",
     "text": [
      "0\n",
      "1\n",
      "2\n",
      "4\n"
     ]
    }
   ],
   "source": [
    "# continue and break\n",
    "for x in range(10):\n",
    "    if x == 3:\n",
    "        continue # go immediately to the next iteration\n",
    "    if x == 5:\n",
    "        break # quit the loop entirely\n",
    "    print (x)"
   ]
  },
  {
   "cell_type": "code",
   "execution_count": 40,
   "id": "2e5b96d7",
   "metadata": {},
   "outputs": [
    {
     "name": "stdout",
     "output_type": "stream",
     "text": [
      "1\n",
      "3\n",
      "5\n",
      "7\n",
      "9\n",
      "11\n",
      "13\n"
     ]
    }
   ],
   "source": [
    "for x in range(20):\n",
    "    if x%2  == 0:\n",
    "        continue # go immediately to the next iteration\n",
    "    if x == 15:\n",
    "        break # quit the loop entirely\n",
    "    print (x)"
   ]
  },
  {
   "cell_type": "markdown",
   "id": "acac11bf",
   "metadata": {},
   "source": [
    "# List Comprehensions"
   ]
  },
  {
   "cell_type": "code",
   "execution_count": 41,
   "id": "ac04a069",
   "metadata": {},
   "outputs": [
    {
     "data": {
      "text/plain": [
       "[0, 2, 4]"
      ]
     },
     "execution_count": 41,
     "metadata": {},
     "output_type": "execute_result"
    }
   ],
   "source": [
    "even_numbers = [x for x in range(5) if x % 2 == 0]; even_numbers"
   ]
  },
  {
   "cell_type": "code",
   "execution_count": 42,
   "id": "3642ea56",
   "metadata": {},
   "outputs": [
    {
     "data": {
      "text/plain": [
       "{0: 0, 1: 1, 2: 4, 3: 9, 4: 16}"
      ]
     },
     "execution_count": 42,
     "metadata": {},
     "output_type": "execute_result"
    }
   ],
   "source": [
    "# Turn a lists into dictionary of sets:\n",
    "square_dict = {x : x * x for x in range(5)}; square_dict"
   ]
  },
  {
   "cell_type": "code",
   "execution_count": 43,
   "id": "d8be57d1",
   "metadata": {},
   "outputs": [
    {
     "name": "stdout",
     "output_type": "stream",
     "text": [
      "[0, 2, 4]\n",
      "[0, 0, 0]\n"
     ]
    }
   ],
   "source": [
    "# Just use an underscore also to represent lengh of list object you're iterating over\n",
    "print(even_numbers)\n",
    "zeroes = [0 for _ in even_numbers]\n",
    "print(zeroes)"
   ]
  },
  {
   "cell_type": "code",
   "execution_count": 44,
   "id": "79e40808",
   "metadata": {},
   "outputs": [
    {
     "data": {
      "text/plain": [
       "[(0, 0), (0, 1), (0, 2), (0, 3), (0, 4)]"
      ]
     },
     "execution_count": 44,
     "metadata": {},
     "output_type": "execute_result"
    }
   ],
   "source": [
    "# Can include multiple Fors:\n",
    "pairs = [(x,y)\n",
    "        for x in range(10)\n",
    "        for y in range(10)]\n",
    "\n",
    "pairs[:5] # 100 pairs (0,0) (0,1) ... (9,8), (9,9)"
   ]
  },
  {
   "cell_type": "code",
   "execution_count": 45,
   "id": "2ed97fdf",
   "metadata": {},
   "outputs": [],
   "source": [
    "# Later fors can use the results of earlier fors:\n",
    "increasing_pairs = [(x, y)\n",
    "                   for x in range(10)\n",
    "                   for y in range(x + 1, 10)]"
   ]
  },
  {
   "cell_type": "markdown",
   "id": "44c96d2f",
   "metadata": {},
   "source": [
    "# Generators and Iterators\n",
    "A generator is something that you can iterate over (for us, usually using for) but\n",
    "whose values are produced only as needed (lazily)."
   ]
  },
  {
   "cell_type": "code",
   "execution_count": 2,
   "id": "a0de68c7",
   "metadata": {},
   "outputs": [],
   "source": [
    "def lazy_range(n):\n",
    "    \"\"\"a lazy version of range\"\"\"\n",
    "    i = 0\n",
    "    while i < n:\n",
    "        yield i\n",
    "        i += 1"
   ]
  },
  {
   "cell_type": "code",
   "execution_count": 4,
   "id": "254b4dc8",
   "metadata": {},
   "outputs": [
    {
     "name": "stdout",
     "output_type": "stream",
     "text": [
      "<generator object lazy_range at 0x0000029B6D3E3040>\n"
     ]
    }
   ],
   "source": [
    "print(lazy_range(10))"
   ]
  },
  {
   "cell_type": "code",
   "execution_count": 6,
   "id": "68ee45a3",
   "metadata": {},
   "outputs": [
    {
     "name": "stdout",
     "output_type": "stream",
     "text": [
      "0\n",
      "1\n",
      "2\n",
      "3\n",
      "4\n",
      "5\n",
      "6\n",
      "7\n",
      "8\n",
      "9\n"
     ]
    }
   ],
   "source": [
    "# The following loop will consume the yielded values one at a time until none are left:\n",
    "for i in lazy_range(10):\n",
    "    print(i)"
   ]
  },
  {
   "cell_type": "code",
   "execution_count": 9,
   "id": "bc576f36",
   "metadata": {},
   "outputs": [
    {
     "data": {
      "text/plain": [
       "[0, 1, 2, 3, 4, 5, 6, 7, 8, 9]"
      ]
     },
     "execution_count": 9,
     "metadata": {},
     "output_type": "execute_result"
    }
   ],
   "source": [
    "list(range(10))"
   ]
  },
  {
   "cell_type": "markdown",
   "id": "24cb6915",
   "metadata": {},
   "source": [
    "# Randomness"
   ]
  },
  {
   "cell_type": "code",
   "execution_count": 10,
   "id": "44f51014",
   "metadata": {},
   "outputs": [],
   "source": [
    "import random\n",
    "four_uniform_randoms = [random.random() for _ in range(4)]"
   ]
  },
  {
   "cell_type": "code",
   "execution_count": 11,
   "id": "13d4920f",
   "metadata": {},
   "outputs": [
    {
     "data": {
      "text/plain": [
       "[0.8000454981026972,\n",
       " 0.052615304770457394,\n",
       " 0.26059049386631705,\n",
       " 0.6328827111158103]"
      ]
     },
     "execution_count": 11,
     "metadata": {},
     "output_type": "execute_result"
    }
   ],
   "source": [
    "four_uniform_randoms"
   ]
  },
  {
   "cell_type": "code",
   "execution_count": 12,
   "id": "9ab3a680",
   "metadata": {},
   "outputs": [
    {
     "data": {
      "text/plain": [
       "[0.9812912147941227,\n",
       " 0.1783428432198686,\n",
       " 0.6459181304917104,\n",
       " 0.6907320164155208,\n",
       " 0.5159462234518911,\n",
       " 0.7106647241120947,\n",
       " 0.5551061934551954,\n",
       " 0.6756045171384212,\n",
       " 0.5846281058516148,\n",
       " 0.5544463418816418]"
      ]
     },
     "execution_count": 12,
     "metadata": {},
     "output_type": "execute_result"
    }
   ],
   "source": [
    "[random.random() for _ in range(10)]"
   ]
  },
  {
   "cell_type": "code",
   "execution_count": 16,
   "id": "6200a32e",
   "metadata": {},
   "outputs": [
    {
     "data": {
      "text/plain": [
       "[81.65426853166332,\n",
       " 74.5916343932444,\n",
       " 48.818993020864056,\n",
       " 46.97649577834867,\n",
       " 76.47531023453821,\n",
       " 16.837684988514212,\n",
       " 41.52828002595322,\n",
       " 47.610553697749026,\n",
       " 22.84402758038918,\n",
       " 18.099040745004224]"
      ]
     },
     "execution_count": 16,
     "metadata": {},
     "output_type": "execute_result"
    }
   ],
   "source": [
    "[random.random()* 100 for _ in range(10)] "
   ]
  },
  {
   "cell_type": "code",
   "execution_count": 17,
   "id": "c41d2917",
   "metadata": {},
   "outputs": [
    {
     "data": {
      "text/plain": [
       "4"
      ]
     },
     "execution_count": 17,
     "metadata": {},
     "output_type": "execute_result"
    }
   ],
   "source": [
    "random.randrange(10) # choose randomly from range(10) = [0, 1, ..., 9]"
   ]
  },
  {
   "cell_type": "code",
   "execution_count": 19,
   "id": "d9b23110",
   "metadata": {},
   "outputs": [
    {
     "data": {
      "text/plain": [
       "5"
      ]
     },
     "execution_count": 19,
     "metadata": {},
     "output_type": "execute_result"
    }
   ],
   "source": [
    "random.randrange(3, 6) # choose randomly from range(3, 6) = [3, 4, 5]"
   ]
  },
  {
   "cell_type": "code",
   "execution_count": 29,
   "id": "6019abae",
   "metadata": {},
   "outputs": [
    {
     "name": "stdout",
     "output_type": "stream",
     "text": [
      "[2, 9, 8, 5, 6, 0, 7, 3, 1, 4]\n"
     ]
    }
   ],
   "source": [
    "# random.shuffle randomly reorders the elements of a list:\n",
    "\n",
    "up_to_ten = list(range(10))\n",
    "random.shuffle(up_to_ten)\n",
    "print (up_to_ten)\n",
    "# [2, 5, 1, 9, 7, 3, 8, 6, 4, 0] (your results will probably be different)"
   ]
  },
  {
   "cell_type": "code",
   "execution_count": 31,
   "id": "150782f8",
   "metadata": {},
   "outputs": [
    {
     "data": {
      "text/plain": [
       "'Bob'"
      ]
     },
     "execution_count": 31,
     "metadata": {},
     "output_type": "execute_result"
    }
   ],
   "source": [
    "# If you need to randomly pick one element from a list you can use random.choice:\n",
    "my_best_friend = random.choice([\"Alice\", \"Bob\", \"Charlie\"])\n",
    "my_best_friend"
   ]
  },
  {
   "cell_type": "code",
   "execution_count": 33,
   "id": "beee4c86",
   "metadata": {},
   "outputs": [
    {
     "data": {
      "text/plain": [
       "[7, 9, 14, 39, 22, 25]"
      ]
     },
     "execution_count": 33,
     "metadata": {},
     "output_type": "execute_result"
    }
   ],
   "source": [
    "# randomly choose a sample of elements without replacement\n",
    "lottery_numbers = range(60)\n",
    "winning_numbers = random.sample(lottery_numbers, 6) # [16, 36, 10, 6, 25, 9]\n",
    "winning_numbers"
   ]
  },
  {
   "cell_type": "code",
   "execution_count": 35,
   "id": "f58918f1",
   "metadata": {},
   "outputs": [
    {
     "data": {
      "text/plain": [
       "[9, 8, 5, 5]"
      ]
     },
     "execution_count": 35,
     "metadata": {},
     "output_type": "execute_result"
    }
   ],
   "source": [
    "# choose a sample of elements with replacement (i.e., allowing duplicates)\n",
    "four_with_replacement = [random.choice(range(10)) for _ in range(4)]\n",
    "four_with_replacement"
   ]
  },
  {
   "cell_type": "markdown",
   "id": "e557c1c7",
   "metadata": {},
   "source": [
    "# Regular Expressions\n",
    "https://regexone.com/"
   ]
  },
  {
   "cell_type": "markdown",
   "id": "01eceffa",
   "metadata": {},
   "source": [
    "# Object-Oriented Programming"
   ]
  },
  {
   "cell_type": "code",
   "execution_count": null,
   "id": "e935b471",
   "metadata": {},
   "outputs": [],
   "source": [
    "# define a class named \"set\"\n",
    "\n",
    "class Set:\n",
    "    # define some member functions, always with a first parameter, \"self\"\n",
    "    \n",
    "    def _init_(self, values=None):\n",
    "        # "
   ]
  },
  {
   "cell_type": "markdown",
   "id": "9932d83e",
   "metadata": {},
   "source": [
    "# Functional Tools"
   ]
  },
  {
   "cell_type": "code",
   "execution_count": 36,
   "id": "bdd2d7f9",
   "metadata": {},
   "outputs": [],
   "source": [
    "from functools import partial"
   ]
  },
  {
   "cell_type": "code",
   "execution_count": 39,
   "id": "e9256bfb",
   "metadata": {},
   "outputs": [
    {
     "data": {
      "text/plain": [
       "8"
      ]
     },
     "execution_count": 39,
     "metadata": {},
     "output_type": "execute_result"
    }
   ],
   "source": [
    "def exp(base, power):\n",
    "    return base ** power\n",
    "\n",
    "# as opposed to using def to define a new function as two_to_the\n",
    "two_to_the = partial(exp, 2)\n",
    "\n",
    "two_to_the(3)"
   ]
  },
  {
   "cell_type": "code",
   "execution_count": null,
   "id": "cd33f2c4",
   "metadata": {},
   "outputs": [],
   "source": []
  },
  {
   "cell_type": "code",
   "execution_count": null,
   "id": "fc459756",
   "metadata": {},
   "outputs": [],
   "source": []
  },
  {
   "cell_type": "code",
   "execution_count": null,
   "id": "89cb4b2c",
   "metadata": {},
   "outputs": [],
   "source": []
  },
  {
   "cell_type": "markdown",
   "id": "a24a6ed2",
   "metadata": {},
   "source": [
    "# enumerate"
   ]
  },
  {
   "cell_type": "code",
   "execution_count": null,
   "id": "3e2eb062",
   "metadata": {},
   "outputs": [],
   "source": []
  },
  {
   "cell_type": "code",
   "execution_count": null,
   "id": "5c401fbb",
   "metadata": {},
   "outputs": [],
   "source": []
  },
  {
   "cell_type": "code",
   "execution_count": null,
   "id": "be32fc4d",
   "metadata": {},
   "outputs": [],
   "source": []
  },
  {
   "cell_type": "code",
   "execution_count": null,
   "id": "987eb003",
   "metadata": {},
   "outputs": [],
   "source": []
  },
  {
   "cell_type": "code",
   "execution_count": null,
   "id": "7239ba99",
   "metadata": {},
   "outputs": [],
   "source": []
  },
  {
   "cell_type": "markdown",
   "id": "fa627cb3",
   "metadata": {},
   "source": [
    "# zip and Argument Unpacking"
   ]
  },
  {
   "cell_type": "code",
   "execution_count": null,
   "id": "df4e66c2",
   "metadata": {},
   "outputs": [],
   "source": []
  },
  {
   "cell_type": "code",
   "execution_count": null,
   "id": "fa2871b1",
   "metadata": {},
   "outputs": [],
   "source": []
  },
  {
   "cell_type": "code",
   "execution_count": null,
   "id": "7a426aca",
   "metadata": {},
   "outputs": [],
   "source": []
  },
  {
   "cell_type": "code",
   "execution_count": null,
   "id": "b41e42e4",
   "metadata": {},
   "outputs": [],
   "source": []
  },
  {
   "cell_type": "code",
   "execution_count": null,
   "id": "584c32c4",
   "metadata": {},
   "outputs": [],
   "source": []
  },
  {
   "cell_type": "markdown",
   "id": "859cde17",
   "metadata": {},
   "source": [
    "# args and kwargs"
   ]
  },
  {
   "cell_type": "code",
   "execution_count": null,
   "id": "5593bf6f",
   "metadata": {},
   "outputs": [],
   "source": []
  },
  {
   "cell_type": "code",
   "execution_count": null,
   "id": "20b8a631",
   "metadata": {},
   "outputs": [],
   "source": []
  },
  {
   "cell_type": "code",
   "execution_count": null,
   "id": "c7b0fd0e",
   "metadata": {},
   "outputs": [],
   "source": []
  },
  {
   "cell_type": "code",
   "execution_count": null,
   "id": "4e6972c5",
   "metadata": {},
   "outputs": [],
   "source": []
  },
  {
   "cell_type": "code",
   "execution_count": null,
   "id": "2c468348",
   "metadata": {},
   "outputs": [],
   "source": []
  }
 ],
 "metadata": {
  "kernelspec": {
   "display_name": "Python 3 (ipykernel)",
   "language": "python",
   "name": "python3"
  },
  "language_info": {
   "codemirror_mode": {
    "name": "ipython",
    "version": 3
   },
   "file_extension": ".py",
   "mimetype": "text/x-python",
   "name": "python",
   "nbconvert_exporter": "python",
   "pygments_lexer": "ipython3",
   "version": "3.8.5"
  },
  "toc": {
   "base_numbering": 1,
   "nav_menu": {},
   "number_sections": true,
   "sideBar": true,
   "skip_h1_title": false,
   "title_cell": "Table of Contents",
   "title_sidebar": "Contents",
   "toc_cell": false,
   "toc_position": {},
   "toc_section_display": true,
   "toc_window_display": true
  }
 },
 "nbformat": 4,
 "nbformat_minor": 5
}
